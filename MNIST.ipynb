{
  "nbformat": 4,
  "nbformat_minor": 0,
  "metadata": {
    "colab": {
      "name": "MNIST.ipynb",
      "provenance": [],
      "collapsed_sections": [],
      "include_colab_link": true
    },
    "kernelspec": {
      "name": "python3",
      "display_name": "Python 3"
    }
  },
  "cells": [
    {
      "cell_type": "markdown",
      "metadata": {
        "id": "view-in-github",
        "colab_type": "text"
      },
      "source": [
        "<a href=\"https://colab.research.google.com/github/LizWY/Tensorflow/blob/master/MNIST.ipynb\" target=\"_parent\"><img src=\"https://colab.research.google.com/assets/colab-badge.svg\" alt=\"Open In Colab\"/></a>"
      ]
    },
    {
      "cell_type": "code",
      "metadata": {
        "id": "RpZWst5LDGdO",
        "colab_type": "code",
        "colab": {}
      },
      "source": [
        "import tensorflow as tf\n",
        "import matplotlib.pyplot as plt\n",
        "import numpy as np"
      ],
      "execution_count": 0,
      "outputs": []
    },
    {
      "cell_type": "markdown",
      "metadata": {
        "id": "J5V7nub9IkIv",
        "colab_type": "text"
      },
      "source": [
        "# Load Data from tensorflow"
      ]
    },
    {
      "cell_type": "code",
      "metadata": {
        "id": "uyMo-yJgE99c",
        "colab_type": "code",
        "colab": {}
      },
      "source": [
        "# load handwriting mnist data\n",
        "mnist = tf.keras.datasets.mnist\n",
        "(x_train, y_train),(x_test, y_test) = mnist.load_data()\n",
        "\n",
        "# normalize the data\n",
        "x_train, x_test = x_train/255.0, x_test/255.0"
      ],
      "execution_count": 0,
      "outputs": []
    },
    {
      "cell_type": "code",
      "metadata": {
        "id": "nI-KceP3I52y",
        "colab_type": "code",
        "outputId": "793ed606-5e38-42e9-9f4e-426d7f1da69a",
        "colab": {
          "base_uri": "https://localhost:8080/",
          "height": 269
        }
      },
      "source": [
        "# show the image\n",
        "plt.figure()\n",
        "plt.imshow(x_train[0])\n",
        "plt.colorbar()\n",
        "plt.grid(False)\n",
        "plt.show()"
      ],
      "execution_count": 0,
      "outputs": [
        {
          "output_type": "display_data",
          "data": {
            "image/png": "[encoded data removed]",
            "text/plain": [
              "<Figure size 432x288 with 2 Axes>"
            ]
          },
          "metadata": {
            "tags": []
          }
        }
      ]
    },
    {
      "cell_type": "markdown",
      "metadata": {
        "id": "ftu1v_XIIL97",
        "colab_type": "text"
      },
      "source": [
        "# Build the model"
      ]
    },
    {
      "cell_type": "code",
      "metadata": {
        "id": "nxhR5PbXDfil",
        "colab_type": "code",
        "outputId": "bc7d0cc1-4ec1-491f-beb8-35ea9c99760d",
        "colab": {
          "base_uri": "https://localhost:8080/",
          "height": 323
        }
      },
      "source": [
        "# Define a callback function, when the accuracy hits 99% then stop epoch \n",
        "class myCallback(tf.keras.callbacks.Callback):\n",
        "  def on_epoch_end(self, epoch, logs ={}):\n",
        "    if(logs.get('acc')>0.99):\n",
        "        self.model.stop_training = True\n",
        "        print('\\nReached 99% accuracy so cancelling training!')\n",
        "\n",
        "callbacks = myCallback()\n",
        "\n",
        "# Set up layers\n",
        "model = tf.keras.models.Sequential([\n",
        "    tf.keras.layers.Flatten(input_shape = (28,28)),\n",
        "    tf.keras.layers.Dense(128, activation = tf.nn.relu),\n",
        "    tf.keras.layers.Dense(10,activation = tf.nn.softmax)  \n",
        "    ])\n",
        "\n",
        "# Compile the model\n",
        "model.compile(optimizer='adam',\n",
        "              loss='sparse_categorical_crossentropy',\n",
        "              metrics=['accuracy'])\n",
        "\n",
        "# Train the model\n",
        "history = model.fit(x_train, y_train, epochs = 10, callbacks = [callbacks])\n",
        "print(history.epoch, history.history['acc'][-1])"
      ],
      "execution_count": 0,
      "outputs": [
        {
          "output_type": "stream",
          "text": [
            "Train on 60000 samples\n",
            "Epoch 1/10\n",
            "60000/60000 [==============================] - 6s 98us/sample - loss: 0.2619 - acc: 0.9249\n",
            "Epoch 2/10\n",
            "60000/60000 [==============================] - 5s 84us/sample - loss: 0.1174 - acc: 0.9657\n",
            "Epoch 3/10\n",
            "60000/60000 [==============================] - 5s 84us/sample - loss: 0.0794 - acc: 0.9763\n",
            "Epoch 4/10\n",
            "60000/60000 [==============================] - 4s 71us/sample - loss: 0.0602 - acc: 0.9817\n",
            "Epoch 5/10\n",
            "60000/60000 [==============================] - 5s 80us/sample - loss: 0.0469 - acc: 0.9851\n",
            "Epoch 6/10\n",
            "60000/60000 [==============================] - 5s 83us/sample - loss: 0.0355 - acc: 0.9890\n",
            "Epoch 7/10\n",
            "59616/60000 [============================>.] - ETA: 0s - loss: 0.0294 - acc: 0.9903\n",
            "Reached 99% accuracy so cancelling training!\n",
            "60000/60000 [==============================] - 5s 85us/sample - loss: 0.0294 - acc: 0.9903\n",
            "[0, 1, 2, 3, 4, 5, 6] 0.9902833\n"
          ],
          "name": "stdout"
        }
      ]
    },
    {
      "cell_type": "markdown",
      "metadata": {
        "id": "U0Bh_qT1JOzA",
        "colab_type": "text"
      },
      "source": [
        "# Make predictions"
      ]
    },
    {
      "cell_type": "code",
      "metadata": {
        "id": "F4T8ePdIH_GU",
        "colab_type": "code",
        "outputId": "c172760d-4b7d-48cd-8908-858d8adc9d8e",
        "colab": {
          "base_uri": "https://localhost:8080/",
          "height": 303
        }
      },
      "source": [
        "predictions = model.predict(x_test)\n",
        "print(\"Predict Number is {} \\nActual Number is {}\".format(np.argmax(predictions[0]),y_test[0]))\n",
        "plt.imshow(x_test[0])\n",
        "plt.show()"
      ],
      "execution_count": 0,
      "outputs": [
        {
          "output_type": "stream",
          "text": [
            "Predict Number is 7 \n",
            "Actual Number is 7\n"
          ],
          "name": "stdout"
        },
        {
          "output_type": "display_data",
          "data": {
            "image/png": "[encoded data removed]",
            "text/plain": [
              "<Figure size 432x288 with 1 Axes>"
            ]
          },
          "metadata": {
            "tags": []
          }
        }
      ]
    },
    {
      "cell_type": "markdown",
      "metadata": {
        "id": "i0TR0XtsH7om",
        "colab_type": "text"
      },
      "source": [
        "#Evaluate accuracy"
      ]
    },
    {
      "cell_type": "code",
      "metadata": {
        "id": "00Bra4t4H-e6",
        "colab_type": "code",
        "outputId": "848c5fcd-2f36-457b-9e84-7f0b4ce643cb",
        "colab": {
          "base_uri": "https://localhost:8080/",
          "height": 68
        }
      },
      "source": [
        "test_loss, test_acc = model.evaluate(x_test,  , verbose=2)\n",
        "\n",
        "print('\\nTest accuracy:', test_acc)"
      ],
      "execution_count": 0,
      "outputs": [
        {
          "output_type": "stream",
          "text": [
            "10000/10000 - 0s - loss: 0.0721 - acc: 0.9787\n",
            "\n",
            "Test accuracy: 0.9787\n"
          ],
          "name": "stdout"
        }
      ]
    },
    {
      "cell_type": "markdown",
      "metadata": {
        "id": "aiKUbiNsOIgy",
        "colab_type": "text"
      },
      "source": [
        "# Visualize the Predictions"
      ]
    },
    {
      "cell_type": "code",
      "metadata": {
        "id": "X5aFbyltKpNY",
        "colab_type": "code",
        "colab": {}
      },
      "source": [
        "def plot_image(i, predictions_array, true_label, img):\n",
        "  predictions_array, true_label, img = predictions_array, true_label[i], img[i]\n",
        "  plt.grid(False)\n",
        "  plt.xticks([])\n",
        "  plt.yticks([])\n",
        "\n",
        "  plt.imshow(img, cmap=plt.cm.binary)\n",
        "\n",
        "  predicted_label = np.argmax(predictions_array)\n",
        "  if predicted_label == true_label:\n",
        "    color = 'blue'\n",
        "  else:\n",
        "    color = 'red'\n",
        "\n",
        "  plt.xlabel(\"{} {:2.0f}% ({})\".format(predicted_label,\n",
        "                                100*np.max(predictions_array),\n",
        "                                true_label),\n",
        "                                color=color)\n",
        "\n",
        "def plot_value_array(i, predictions_array, true_label):\n",
        "  predictions_array, true_label = predictions_array, true_label[i]\n",
        "  plt.grid(False)\n",
        "  plt.xticks(range(10))\n",
        "  plt.yticks([])\n",
        "  thisplot = plt.bar(range(10), predictions_array, color=\"#777777\")\n",
        "  plt.ylim([0, 1])\n",
        "  predicted_label = np.argmax(predictions_array)\n",
        "\n",
        "  thisplot[predicted_label].set_color('red')\n",
        "  thisplot[true_label].set_color('blue')"
      ],
      "execution_count": 0,
      "outputs": []
    },
    {
      "cell_type": "code",
      "metadata": {
        "id": "Oov7Y4z7MT2A",
        "colab_type": "code",
        "outputId": "013836f2-3cb6-4a5a-cba4-2a179abd0bb1",
        "colab": {
          "base_uri": "https://localhost:8080/",
          "height": 214
        }
      },
      "source": [
        "i = 2500\n",
        "plt.figure(figsize=(6,3))\n",
        "plt.subplot(1,2,1)\n",
        "plot_image(i, predictions[i], y_test, x_test)\n",
        "plt.subplot(1,2,2)\n",
        "plot_value_array(i, predictions[i],  y_test)\n",
        "plt.show()"
      ],
      "execution_count": 0,
      "outputs": [
        {
          "output_type": "display_data",
          "data": {
            "image/png": "[encoded data removed]",
            "text/plain": [
              "<Figure size 432x216 with 2 Axes>"
            ]
          },
          "metadata": {
            "tags": []
          }
        }
      ]
    },
    {
      "cell_type": "code",
      "metadata": {
        "id": "v7mdnAYYMmw6",
        "colab_type": "code",
        "colab": {}
      },
      "source": [
        ""
      ],
      "execution_count": 0,
      "outputs": []
    }
  ]
}